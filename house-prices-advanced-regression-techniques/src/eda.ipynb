{
 "cells": [
  {
   "cell_type": "markdown",
   "metadata": {},
   "source": [
    "# Exploratory Analysis\n",
    "The first step in the analysis of the dataset is a very modest exploratory analysis over the raw dataset. \n",
    "This will give us some insights on how the data looks like without any treatment and will allow us to see what variables need some kind of normalization.\n",
    "\n",
    "In order to do that, we'll be using [SweetViz](https://pypi.org/project/sweetviz/) and [Decision Trees](https://scikit-learn.org/stable/auto_examples/tree/plot_unveil_tree_structure.html#sphx-glr-auto-examples-tree-plot-unveil-tree-structure-py). "
   ]
  },
  {
   "cell_type": "markdown",
   "metadata": {},
   "source": [
    "## SweetViz\n",
    "SweetViz is a Python library that automates the EDA process by creating a multitude of statistical information without any human input. It generates a report on every variable of a dataset.\n",
    "It's a simple way of finding obvious correlated features."
   ]
  },
  {
   "cell_type": "code",
   "execution_count": null,
   "metadata": {},
   "outputs": [],
   "source": [
    "import sweetviz\n",
    "import pandas as pd\n",
    "df = pd.read_csv('../data/train.csv')\n",
    "\n",
    "# we're going to analyze all variables in relation to our target, SalePrice\n",
    "feature_config = sweetviz.FeatureConfig(force_num = [\"OverallQual\", \"OverallCond\"])\n",
    "my_report  = sweetviz.analyze([df,'Train'], target_feat='SalePrice', feat_cfg=feature_config)\n",
    "\n",
    "# save html\n",
    "my_report.show_html(filepath=\"eda_report.html\", open_browser=False)"
   ]
  },
  {
   "cell_type": "markdown",
   "metadata": {},
   "source": [
    "### Report Analysis"
   ]
  },
  {
   "cell_type": "markdown",
   "metadata": {},
   "source": [
    "#### Target Variable Analysis\n",
    "Our target is the SalePrice variable: the sale price of the property in dollars. Most of the sales are in the $100k - $200k range (Q1 = $130k, Q3 = $214k), with an average of $181k. The long tail is in the front, with some properties sold for over $300k.\n",
    "\n",
    "![Target Variable Graph](../media/target_graph.png)\n",
    "\n",
    "The Pearson correlation chart ranks seven numerical variables as **strongly correlated** to SalePrice:\n",
    "\n",
    "| Variable      | Pearson |\n",
    "|--------------\t|------\t|\n",
    "| GrLivArea    \t| 0.71 \t|\n",
    "| GarageArea   \t| 0.62 \t|\n",
    "| TotalBsmtSF  \t| 0.61 \t|\n",
    "| 1stFlrSF     \t| 0.61 \t|\n",
    "| TotRmsAbvGrd \t| 0.53 \t|\n",
    "| YearBuilt    \t| 0.52 \t|\n",
    "| YearRemodAdd \t| 0.51 \t|\n",
    "\n",
    "Those are the usual suspects for real state pricing schemes: Above Grade Area and Number of Rooms (GrLivArea, TotRmsAbvGrd), Garage/Basement/1st Floor Areas (GarageArea, TotalBsmtSF, 1stFlrSF), the age of the building (YearBuilt), and when it was last remodelled (YearRemodAdd).\n",
    "\n",
    "The Correlation Ratio chart ranks the following categorical variables as **strongly correlated**:\n",
    "\n",
    "| Variable     \t| Correlation \t|\n",
    "|--------------\t|-------------\t|\n",
    "| OverallQual  \t| 0.83        \t|\n",
    "| Neighborhood \t| 0.74        \t|\n",
    "| GarageCars   \t| 0.70        \t|\n",
    "| ExterQual    \t| 0.69        \t|\n",
    "| BsmtQual     \t| 0.68        \t|\n",
    "| KitchenQual  \t| 0.68        \t|\n",
    "| FullBath     \t| 0.58        \t|\n",
    "| GarageFinish \t| 0.55        \t|\n",
    "| FireplaceQu  \t| 0.54        \t|\n",
    "| Foundation   \t| 0.51        \t|\n",
    "\n",
    "The first variable, **OverallQual**, should have been classified as a Numerical variable. It is a score from 1-10 denoting the quality of the residence build and finish, and should be taken in account together with **OverallCond**. This is a sign that we need to cast this feature to integer manually.\n",
    "\n",
    "The second variable is **Neighborhood**, containing the district name. This means there is a sale price disparity between neighborhoods, be it because of the neighborhood itself is gentrified or because the houses in that neighborhood are more recent/spacious."
   ]
  },
  {
   "cell_type": "markdown",
   "metadata": {},
   "source": [
    "#### Correlated Variable Analysis\n",
    "Let's go through some of the correlated variables we've discovered in the Target Analysis.\n",
    "\n",
    "**1. GrLivArea (Area Above Grade)**\n",
    "\n",
    "![GrLivArea](../media/grlivarea.png)\n",
    "\n",
    "The *area above grade* is the living area inside a building that is over ground level. We can see that SalePrice rises sharply in tandem with the area, with a few outliers in the far-end of the spectrum. This trend is much more clear if we consider only the values below the 95% threshold (<2466 SF).\n",
    "Notable associations are **OverallQual** and **Neighborhood**. This means that property quality is connected to the area above grade, and that neighborhoods have different average property sizes.\n",
    "\n",
    "**2. OverallQual (Overall Quality Score)**\n",
    "\n",
    "![overallqual](../media/overallqual.png)\n",
    "\n",
    "The overall quality score is a value between 1 and 10 that denotes the material and the finish of the house. As SweetViz detected this variable as categorical, the first version of this graph wasn't ideal. We forced the cast of OverallQual and OverallCond to numerical in SweetViz and the cell that produces the notebook above has been since updated.\n",
    "\n",
    "It's a straight correlation between quality and price. Of course: better houses are sold with higher prices. Quality also numerically correlates with the area above grade and age of the building. Interesting categorical associations are **Neighborhood** and **Foundation**, denoting that the neighborhood overall quality and the foundation type influence the overall quality of a property.\n",
    "\n",
    "**3. Neighborhood (name of the area)**\n",
    "\n",
    "![neighborhood](../media/neighborhood.png)\n",
    "\n",
    "The Neighborhood variable is simply the name of the region of the property. It correlates strongly with the property age (YearBuilt, 0.88), sale price (SalePrice, 0.74), and the overall quality (OverallQual, 0.72). Newer properties are usually pricier (with a few historical outliers), and new properties are usually clustered together.\n",
    "\n",
    "There's a wealth of insights to be gathered from the relationship between Neighborhood and other variables: is the quality of a house inherent to its neighborhood? Was there a recent price spike/drop on houses sold in that region?"
   ]
  },
  {
   "cell_type": "markdown",
   "metadata": {},
   "source": []
  }
 ],
 "metadata": {
  "interpreter": {
   "hash": "24352985ed11c7cafdf70c118b21ee937222738798f36c1aba8f5d1cd9578e51"
  },
  "kernelspec": {
   "display_name": "Python 3.8.5 64-bit ('birdie': virtualenvwrapper)",
   "name": "python3"
  },
  "language_info": {
   "codemirror_mode": {
    "name": "ipython",
    "version": 3
   },
   "file_extension": ".py",
   "mimetype": "text/x-python",
   "name": "python",
   "nbconvert_exporter": "python",
   "pygments_lexer": "ipython3",
   "version": "3.8.5"
  },
  "orig_nbformat": 4
 },
 "nbformat": 4,
 "nbformat_minor": 2
}